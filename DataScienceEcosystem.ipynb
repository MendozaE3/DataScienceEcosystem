{
 "cells": [
  {
   "cell_type": "markdown",
   "id": "2e1104c2",
   "metadata": {},
   "source": [
    "# Data Science Tools and Ecosystem"
   ]
  },
  {
   "cell_type": "markdown",
   "id": "6e87c595",
   "metadata": {},
   "source": [
    "In this notebook, Data Science Tools and Ecosystem are summarized."
   ]
  },
  {
   "cell_type": "markdown",
   "id": "70f3db18",
   "metadata": {},
   "source": [
    "**Objectives**\n",
    "- Languages used by Data Sceintist\n",
    "- Libraries used by Data Sceintist\n",
    "- Development Open Source Tools used by Data Scientist\n",
    "- Examples of a  few arithmetic expressions that can be used in Python."
   ]
  },
  {
   "cell_type": "markdown",
   "id": "fd908f21",
   "metadata": {},
   "source": [
    "Some of the popular languages that Data Scientist use are:\n",
    "1. SQL \n",
    "2. R\n",
    "3. Python\n",
    "4. Julia"
   ]
  },
  {
   "cell_type": "markdown",
   "id": "51d721fc",
   "metadata": {},
   "source": [
    "Some commonly used libraries used by Data Scientist include:\n",
    "1. Pandas\n",
    "2. NumPy\n",
    "3. TensorFlow\n",
    "4. Keras"
   ]
  },
  {
   "cell_type": "markdown",
   "id": "ea696b62",
   "metadata": {},
   "source": [
    "| Data Science Tools |\n",
    "-----\n",
    "| Git |\n",
    "| Apache Cordova |\n",
    "| Eclipse IDE |"
   ]
  },
  {
   "cell_type": "markdown",
   "id": "5ba1d7bb",
   "metadata": {},
   "source": [
    "### Below are a few examples of evaluating arithmetic expressions in Python."
   ]
  },
  {
   "cell_type": "markdown",
   "id": "931d171b",
   "metadata": {},
   "source": [
    "This is a simple arithmetic expression to multiply then add integers.\n"
   ]
  },
  {
   "cell_type": "code",
   "execution_count": 4,
   "id": "39a63e9b",
   "metadata": {},
   "outputs": [
    {
     "data": {
      "text/plain": [
       "17"
      ]
     },
     "execution_count": 4,
     "metadata": {},
     "output_type": "execute_result"
    }
   ],
   "source": [
    "(3*4)+5"
   ]
  },
  {
   "cell_type": "markdown",
   "id": "b3216f7b",
   "metadata": {},
   "source": [
    "This expression will convert 200 minutes to hours by dividing by 60."
   ]
  },
  {
   "cell_type": "code",
   "execution_count": 9,
   "id": "c233279e",
   "metadata": {},
   "outputs": [
    {
     "data": {
      "text/plain": [
       "3.3333333333333335"
      ]
     },
     "execution_count": 9,
     "metadata": {},
     "output_type": "execute_result"
    }
   ],
   "source": [
    "200/60"
   ]
  },
  {
   "cell_type": "markdown",
   "id": "fb51ef3a",
   "metadata": {},
   "source": [
    "## Author\n",
    "Edgar Mendoza"
   ]
  }
 ],
 "metadata": {
  "kernelspec": {
   "display_name": "Python 3 (ipykernel)",
   "language": "python",
   "name": "python3"
  },
  "language_info": {
   "codemirror_mode": {
    "name": "ipython",
    "version": 3
   },
   "file_extension": ".py",
   "mimetype": "text/x-python",
   "name": "python",
   "nbconvert_exporter": "python",
   "pygments_lexer": "ipython3",
   "version": "3.10.9"
  }
 },
 "nbformat": 4,
 "nbformat_minor": 5
}
